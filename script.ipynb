{
 "cells": [
  {
   "cell_type": "markdown",
   "metadata": {},
   "source": [
    "IMPORT LIBRARIES"
   ]
  },
  {
   "cell_type": "code",
   "execution_count": 112,
   "metadata": {},
   "outputs": [],
   "source": [
    "from bs4 import BeautifulSoup\n",
    "import pandas as pd\n",
    "import time\n",
    "import requests\n",
    "import os"
   ]
  },
  {
   "cell_type": "code",
   "execution_count": 113,
   "metadata": {},
   "outputs": [],
   "source": [
    "headers = {\n",
    "    'User-Agent': 'Mozilla/5.0 (Windows NT 10.0; Win64; x64) AppleWebKit/537.36 (KHTML, like Gecko) Chrome/115.0.0.0 Safari/537.36'\n",
    "}\n",
    "\n",
    "keyword = 'shoes'\n",
    "imageList, linkList, nameList, conditionList, priceList, colorsList, sizesList, locationList = [], [], [], [], [], [], [], []"
   ]
  },
  {
   "cell_type": "markdown",
   "metadata": {},
   "source": [
    "SCRAPING"
   ]
  },
  {
   "cell_type": "code",
   "execution_count": 115,
   "metadata": {},
   "outputs": [],
   "source": [
    "for page in range(1, 4):\n",
    "    URL = f'https://www.ebay.com/sch/i.html?_nkw={keyword}&_pgn={page}'\n",
    "    res = requests.get(URL, headers=headers)\n",
    "    pageSource = res.text\n",
    "\n",
    "    content = BeautifulSoup(pageSource, 'html.parser')\n",
    "    items = content.findAll('div', 's-item__image-section')\n",
    "    items.pop(0)\n",
    "\n",
    "\n",
    "    for item in items:\n",
    "        image = item.find('div', 's-item__image-wrapper image-treatment').find('img')['src']\n",
    "        link = item.find('a')['href']\n",
    "        \n",
    "        res = requests.get(link, headers=headers)\n",
    "        content = BeautifulSoup(res.text, 'html.parser')\n",
    "        product = content.find('div', id='LeftSummaryPanel')\n",
    "\n",
    "        if product:\n",
    "            name = product.find('span', 'ux-textspans ux-textspans--BOLD').text\n",
    "            condition = product.find('div', 'x-item-condition-text').find('span', 'ux-textspans').text\n",
    "            price = product.find('div', 'x-price-primary').find('span', 'ux-textspans').text\n",
    "            colors = ''\n",
    "            sizes = ''\n",
    "\n",
    "            location = product.find('div', 'ux-labels-values__values col-9').find('span', 'ux-textspans ux-textspans--SECONDARY')\n",
    "            if location: location = location.text.replace('Located in: ', '')\n",
    "\n",
    "            for i in range(2):\n",
    "                option = product.find('select', id=f'x-msku__select-box-100{i}')\n",
    "                if option:\n",
    "                    option = product.find('select', id=f'x-msku__select-box-100{i}')['aria-label']\n",
    "                    if 'Color' in option:\n",
    "                        option = product.find('select', id=f'x-msku__select-box-100{i}').findAll('option')\n",
    "                        color = [ops.text.replace('\\xa0 (Out Of Stock)', '') for ops in option]\n",
    "                        color.pop(0)\n",
    "                        colors = ', '.join(color)\n",
    "\n",
    "                    if 'Size' in option:\n",
    "                        option = product.find('select', id=f'x-msku__select-box-100{i}').findAll('option')\n",
    "                        size = [ops.text.replace('\\xa0 (Out Of Stock)', '') for ops in option]\n",
    "                        size.pop(0)\n",
    "                        sizes = ', '.join(size)\n",
    "\n",
    "            imageList.append(image)\n",
    "            linkList.append(link)\n",
    "            nameList.append(name)\n",
    "            conditionList.append(condition)\n",
    "            priceList.append(price)\n",
    "            colorsList.append(colors)\n",
    "            sizesList.append(sizes)\n",
    "            locationList.append(location)\n",
    "            \n",
    "        time.sleep(1)"
   ]
  },
  {
   "cell_type": "markdown",
   "metadata": {},
   "source": [
    "DATAFRAME"
   ]
  },
  {
   "cell_type": "code",
   "execution_count": null,
   "metadata": {},
   "outputs": [],
   "source": [
    "data = {\n",
    "    'Product Name': nameList,\n",
    "    'Price': priceList,\n",
    "    'Location': locationList,\n",
    "    'Condition': conditionList,\n",
    "    'Colors': colorsList,\n",
    "    'Sizes': sizesList,\n",
    "    'Image': imageList,\n",
    "    'Product Link': linkList\n",
    "}\n",
    "\n",
    "dataframe = pd.DataFrame(data)"
   ]
  },
  {
   "cell_type": "code",
   "execution_count": null,
   "metadata": {},
   "outputs": [],
   "source": [
    "dataframe.to_csv('Data Products.csv', index=False)"
   ]
  }
 ],
 "metadata": {
  "kernelspec": {
   "display_name": "Python 3",
   "language": "python",
   "name": "python3"
  },
  "language_info": {
   "codemirror_mode": {
    "name": "ipython",
    "version": 3
   },
   "file_extension": ".py",
   "mimetype": "text/x-python",
   "name": "python",
   "nbconvert_exporter": "python",
   "pygments_lexer": "ipython3",
   "version": "3.10.7"
  },
  "orig_nbformat": 4
 },
 "nbformat": 4,
 "nbformat_minor": 2
}
